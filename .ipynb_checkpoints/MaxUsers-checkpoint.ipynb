{
 "cells": [
  {
   "cell_type": "code",
   "execution_count": 125,
   "id": "4a8be75b",
   "metadata": {},
   "outputs": [],
   "source": [
    "#open file notepad\n",
    "x = open('LogSample.txt', 'r')"
   ]
  },
  {
   "cell_type": "code",
   "execution_count": 126,
   "id": "33273551",
   "metadata": {},
   "outputs": [
    {
     "name": "stdout",
     "output_type": "stream",
     "text": [
      "<user1> this is some chat words\n",
      "<user2> the sky is blue\n",
      "This line is still attributed to the user above haha\n",
      "<user1> more chat from me! 38gad81\n"
     ]
    }
   ],
   "source": [
    "#separate lines by user\n",
    "#create dictionary for each user and word count\n",
    "\n",
    "overallString=x.read()\n",
    "print(overallString)"
   ]
  },
  {
   "cell_type": "code",
   "execution_count": 127,
   "id": "660c8f1b",
   "metadata": {},
   "outputs": [
    {
     "data": {
      "text/plain": [
       "['<user1>',\n",
       " 'this',\n",
       " 'is',\n",
       " 'some',\n",
       " 'chat',\n",
       " 'words\\n<user2>',\n",
       " 'the',\n",
       " 'sky',\n",
       " 'is',\n",
       " 'blue\\nThis',\n",
       " 'line',\n",
       " 'is',\n",
       " 'still',\n",
       " 'attributed',\n",
       " 'to',\n",
       " 'the',\n",
       " 'user',\n",
       " 'above',\n",
       " 'haha\\n<user1>',\n",
       " 'more',\n",
       " 'chat',\n",
       " 'from',\n",
       " 'me!',\n",
       " '38gad81']"
      ]
     },
     "execution_count": 127,
     "metadata": {},
     "output_type": "execute_result"
    }
   ],
   "source": [
    "overallString.split(\" \")"
   ]
  },
  {
   "cell_type": "code",
   "execution_count": 130,
   "id": "62e9c30e",
   "metadata": {},
   "outputs": [],
   "source": [
    "#Separating words appropriately and adding to a new list\n",
    "\n",
    "wordsNew=[]\n",
    "for k in overallString.split(\" \"):\n",
    "    if(\"<\" in k):        \n",
    "        p=k.split()\n",
    "        for i in p:\n",
    "            wordsNew.append(i)\n",
    "    elif(\"\\n\" in k):        \n",
    "        q=k.split()\n",
    "        for j in q:\n",
    "            wordsNew.append(j)\n",
    "    else:\n",
    "        wordsNew.append(k)"
   ]
  },
  {
   "cell_type": "code",
   "execution_count": 107,
   "id": "bc3aa7d0",
   "metadata": {},
   "outputs": [
    {
     "data": {
      "text/plain": [
       "['<user1>',\n",
       " 'this',\n",
       " 'is',\n",
       " 'some',\n",
       " 'chat',\n",
       " 'words',\n",
       " '<user2>',\n",
       " 'the',\n",
       " 'sky',\n",
       " 'is',\n",
       " 'blue\\nThis',\n",
       " 'line',\n",
       " 'is',\n",
       " 'still',\n",
       " 'attributed',\n",
       " 'to',\n",
       " 'the',\n",
       " 'user',\n",
       " 'above',\n",
       " 'haha',\n",
       " '<user1>',\n",
       " 'more',\n",
       " 'chat',\n",
       " 'from',\n",
       " 'me!',\n",
       " '38gad81']"
      ]
     },
     "execution_count": 107,
     "metadata": {},
     "output_type": "execute_result"
    }
   ],
   "source": [
    "wordsNew"
   ]
  },
  {
   "cell_type": "code",
   "execution_count": 131,
   "id": "e36201b9",
   "metadata": {},
   "outputs": [
    {
     "name": "stdout",
     "output_type": "stream",
     "text": [
      "{'<user1>': 10, '<user2>': 14}\n"
     ]
    }
   ],
   "source": [
    "#dictionary\n",
    "#key- user name, value- user's word count\n",
    "\n",
    "dict={}\n",
    "currentKey=\"\"\n",
    "#add key to dict\n",
    "for current in wordsNew:\n",
    "    if((\"<\" in current) and (current not in dict)):\n",
    "        dict[current]=int(0)\n",
    "        currentKey=current        \n",
    "    elif((\"<\" in current) and (current in dict)):\n",
    "        currentKey=current\n",
    "    else:\n",
    "        dict[currentKey]=dict[currentKey]+1\n",
    "print(dict)\n"
   ]
  },
  {
   "cell_type": "code",
   "execution_count": 132,
   "id": "93857685",
   "metadata": {},
   "outputs": [
    {
     "name": "stdout",
     "output_type": "stream",
     "text": [
      "<user2>\n"
     ]
    }
   ],
   "source": [
    "#max users: maximum value in dictionary\n",
    "\n",
    "#keys\n",
    "allKeys = list(dict.keys())\n",
    "\n",
    "#values\n",
    "allValues = list(dict.values())\n",
    "\n",
    "#print the maximum of the values\n",
    "print(allKeys[allValues.index(max(allValues))])"
   ]
  },
  {
   "cell_type": "code",
   "execution_count": 53,
   "id": "304e97b2",
   "metadata": {},
   "outputs": [],
   "source": [
    "x.close()"
   ]
  }
 ],
 "metadata": {
  "kernelspec": {
   "display_name": "Python 3 (ipykernel)",
   "language": "python",
   "name": "python3"
  },
  "language_info": {
   "codemirror_mode": {
    "name": "ipython",
    "version": 3
   },
   "file_extension": ".py",
   "mimetype": "text/x-python",
   "name": "python",
   "nbconvert_exporter": "python",
   "pygments_lexer": "ipython3",
   "version": "3.9.12"
  }
 },
 "nbformat": 4,
 "nbformat_minor": 5
}
