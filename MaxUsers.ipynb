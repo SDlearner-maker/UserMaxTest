{
 "cells": [
  {
   "cell_type": "code",
   "execution_count": 125,
   "id": "de6dd2b8",
   "metadata": {},
   "outputs": [],
   "source": [
    "#open file notepad\n",
    "x = open('LogSample.txt', 'r')"
   ]
  },
  {
   "cell_type": "code",
   "execution_count": 126,
   "id": "744610fc",
   "metadata": {},
   "outputs": [
    {
     "name": "stdout",
     "output_type": "stream",
     "text": [
      "<user1> this is some chat words\n",
      "<user2> the sky is blue\n",
      "This line is still attributed to the user above haha\n",
      "<user1> more chat from me! 38gad81\n"
     ]
    }
   ],
   "source": [
    "#separate lines by user\n",
    "#create dictionary for each user and word count\n",
    "\n",
    "overallString=x.read()\n",
    "print(overallString)"
   ]
  },
  {
   "cell_type": "code",
   "execution_count": 130,
   "id": "70be9a90",
   "metadata": {},
   "outputs": [],
   "source": [
    "#Separating words appropriately and adding to a new list\n",
    "\n",
    "wordsNew=[]\n",
    "for k in overallString.split(\" \"):\n",
    "    if(\"<\" in k):        \n",
    "        p=k.split()\n",
    "        for i in p:\n",
    "            wordsNew.append(i)\n",
    "    elif(\"\\n\" in k):        \n",
    "        q=k.split()\n",
    "        for j in q:\n",
    "            wordsNew.append(j)\n",
    "    else:\n",
    "        wordsNew.append(k)"
   ]
  },
  {
   "cell_type": "code",
   "execution_count": 131,
   "id": "0a0e639d",
   "metadata": {},
   "outputs": [
    {
     "name": "stdout",
     "output_type": "stream",
     "text": [
      "{'<user1>': 10, '<user2>': 14}\n"
     ]
    }
   ],
   "source": [
    "#dictionary\n",
    "#key- user name, value- user's word count\n",
    "\n",
    "dict={}\n",
    "currentKey=\"\"\n",
    "#add key to dict\n",
    "for current in wordsNew:\n",
    "    if((\"<\" in current) and (current not in dict)):\n",
    "        dict[current]=int(0)\n",
    "        currentKey=current        \n",
    "    elif((\"<\" in current) and (current in dict)):\n",
    "        currentKey=current\n",
    "    else:\n",
    "        dict[currentKey]=dict[currentKey]+1\n",
    "print(dict)\n"
   ]
  },
  {
   "cell_type": "code",
   "execution_count": 132,
   "id": "17c4efd1",
   "metadata": {},
   "outputs": [
    {
     "name": "stdout",
     "output_type": "stream",
     "text": [
      "<user2>\n"
     ]
    }
   ],
   "source": [
    "#max users: maximum value in dictionary\n",
    "\n",
    "#keys\n",
    "allKeys = list(dict.keys())\n",
    "\n",
    "#values\n",
    "allValues = list(dict.values())\n",
    "\n",
    "#print the maximum of the values\n",
    "print(allKeys[allValues.index(max(allValues))])"
   ]
  },
  {
   "cell_type": "code",
   "execution_count": 133,
   "id": "f9889347",
   "metadata": {},
   "outputs": [],
   "source": [
    "#close the file\n",
    "x.close()"
   ]
  }
 ],
 "metadata": {
  "kernelspec": {
   "display_name": "Python 3 (ipykernel)",
   "language": "python",
   "name": "python3"
  },
  "language_info": {
   "codemirror_mode": {
    "name": "ipython",
    "version": 3
   },
   "file_extension": ".py",
   "mimetype": "text/x-python",
   "name": "python",
   "nbconvert_exporter": "python",
   "pygments_lexer": "ipython3",
   "version": "3.9.12"
  }
 },
 "nbformat": 4,
 "nbformat_minor": 5
}
